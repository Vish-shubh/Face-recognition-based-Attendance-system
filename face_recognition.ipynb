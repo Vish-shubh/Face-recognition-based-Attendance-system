{
  "nbformat": 4,
  "nbformat_minor": 0,
  "metadata": {
    "colab": {
      "provenance": [],
      "authorship_tag": "ABX9TyMkrRp0/I7x35Vt0Yr0Uf27",
      "include_colab_link": true
    },
    "kernelspec": {
      "name": "python3",
      "display_name": "Python 3"
    },
    "language_info": {
      "name": "python"
    }
  },
  "cells": [
    {
      "cell_type": "markdown",
      "metadata": {
        "id": "view-in-github",
        "colab_type": "text"
      },
      "source": [
        "<a href=\"https://colab.research.google.com/github/Vish-shubh/Face-recognition-based-Attendance-system/blob/main/face_recognition.ipynb\" target=\"_parent\"><img src=\"https://colab.research.google.com/assets/colab-badge.svg\" alt=\"Open In Colab\"/></a>"
      ]
    },
    {
      "cell_type": "code",
      "source": [
        "import os  # accessing the os functions\n",
        "import check_camera\n",
        "import Capture_Image\n",
        "import Train_Image\n",
        "import Recognize\n",
        "\n",
        "\n",
        "# creating the title bar function\n",
        "\n",
        "def title_bar():\n",
        "    os.system('cls')  # for windows\n",
        "\n",
        "    # title of the program\n",
        "\n",
        "    print(\"\\t**********************************************\")\n",
        "    print(\"\\t***** Face Recognition Attendance System *****\")\n",
        "    print(\"\\t**********************************************\")\n",
        "\n",
        "\n",
        "# creating the user main menu function\n",
        "\n",
        "def mainMenu():\n",
        "    title_bar()\n",
        "    print()\n",
        "    print(10 * \"*\", \"WELCOME MENU\", 10 * \"*\")\n",
        "    print(\"[1] Check Camera\")\n",
        "    print(\"[2] Capture Faces\")\n",
        "    print(\"[3] Train Images\")\n",
        "    print(\"[4] Recognize & Attendance\")\n",
        "    print(\"[5] Auto Mail\")\n",
        "    print(\"[6] Quit\")\n",
        "\n",
        "    while True:\n",
        "        try:\n",
        "            choice = int(input(\"Enter Choice: \"))\n",
        "\n",
        "            if choice == 1:\n",
        "                checkCamera()\n",
        "                break\n",
        "            elif choice == 2:\n",
        "                CaptureFaces()\n",
        "                break\n",
        "            elif choice == 3:\n",
        "                Trainimages()\n",
        "                break\n",
        "            elif choice == 4:\n",
        "                RecognizeFaces()\n",
        "                break\n",
        "            elif choice == 5:\n",
        "                os.system(\"py automail.py\")\n",
        "                break\n",
        "                mainMenu()\n",
        "            elif choice == 6:\n",
        "                print(\"Thank You\")\n",
        "                break\n",
        "            else:\n",
        "                print(\"Invalid Choice. Enter 1-4\")\n",
        "                mainMenu()\n",
        "        except ValueError:\n",
        "            print(\"Invalid Choice. Enter 1-4\\n Try Again\")\n",
        "    exit\n",
        "\n",
        "\n",
        "# ---------------------------------------------------------\n",
        "# calling the camera test function from check camera.py file\n",
        "\n",
        "def checkCamera():\n",
        "    check_camera.camer()\n",
        "    key = input(\"Enter any key to return main menu\")\n",
        "    mainMenu()\n",
        "\n",
        "\n",
        "# --------------------------------------------------------------\n",
        "# calling the take image function form capture image.py file\n",
        "\n",
        "def CaptureFaces():\n",
        "    Capture_Image.takeImages()\n",
        "    key = input(\"Enter any key to return main menu\")\n",
        "    mainMenu()\n",
        "\n",
        "\n",
        "# -----------------------------------------------------------------\n",
        "# calling the train images from train_images.py file\n",
        "\n",
        "def Trainimages():\n",
        "    Train_Image.TrainImages()\n",
        "    key = input(\"Enter any key to return main menu\")\n",
        "    mainMenu()\n",
        "\n",
        "\n",
        "# --------------------------------------------------------------------\n",
        "# calling the recognize_attendance from recognize.py file\n",
        "\n",
        "def RecognizeFaces():\n",
        "    Recognize.recognize_attendence()\n",
        "    key = input(\"Enter any key to return main menu\")\n",
        "    mainMenu()\n",
        "\n",
        "\n",
        "# ---------------main driver ------------------\n",
        "mainMenu()"
      ],
      "metadata": {
        "id": "z1n1-YV9TV9a",
        "colab": {
          "base_uri": "https://localhost:8080/",
          "height": 374
        },
        "outputId": "986f206f-6bd8-4152-de7d-b0c127424514"
      },
      "execution_count": 1,
      "outputs": [
        {
          "output_type": "error",
          "ename": "ModuleNotFoundError",
          "evalue": "ignored",
          "traceback": [
            "\u001b[0;31m---------------------------------------------------------------------------\u001b[0m",
            "\u001b[0;31mModuleNotFoundError\u001b[0m                       Traceback (most recent call last)",
            "\u001b[0;32m<ipython-input-1-fcb8c930b764>\u001b[0m in \u001b[0;36m<module>\u001b[0;34m\u001b[0m\n\u001b[1;32m      1\u001b[0m \u001b[0;32mimport\u001b[0m \u001b[0mos\u001b[0m  \u001b[0;31m# accessing the os functions\u001b[0m\u001b[0;34m\u001b[0m\u001b[0;34m\u001b[0m\u001b[0m\n\u001b[0;32m----> 2\u001b[0;31m \u001b[0;32mimport\u001b[0m \u001b[0mcheck_camera\u001b[0m\u001b[0;34m\u001b[0m\u001b[0;34m\u001b[0m\u001b[0m\n\u001b[0m\u001b[1;32m      3\u001b[0m \u001b[0;32mimport\u001b[0m \u001b[0mCapture_Image\u001b[0m\u001b[0;34m\u001b[0m\u001b[0;34m\u001b[0m\u001b[0m\n\u001b[1;32m      4\u001b[0m \u001b[0;32mimport\u001b[0m \u001b[0mTrain_Image\u001b[0m\u001b[0;34m\u001b[0m\u001b[0;34m\u001b[0m\u001b[0m\n\u001b[1;32m      5\u001b[0m \u001b[0;32mimport\u001b[0m \u001b[0mRecognize\u001b[0m\u001b[0;34m\u001b[0m\u001b[0;34m\u001b[0m\u001b[0m\n",
            "\u001b[0;31mModuleNotFoundError\u001b[0m: No module named 'check_camera'",
            "",
            "\u001b[0;31m---------------------------------------------------------------------------\u001b[0;32m\nNOTE: If your import is failing due to a missing package, you can\nmanually install dependencies using either !pip or !apt.\n\nTo view examples of installing some common dependencies, click the\n\"Open Examples\" button below.\n\u001b[0;31m---------------------------------------------------------------------------\u001b[0m\n"
          ],
          "errorDetails": {
            "actions": [
              {
                "action": "open_url",
                "actionText": "Open Examples",
                "url": "/notebooks/snippets/importing_libraries.ipynb"
              }
            ]
          }
        }
      ]
    },
    {
      "cell_type": "code",
      "source": [],
      "metadata": {
        "id": "vLtXBwaFXFF2",
        "colab": {
          "base_uri": "https://localhost:8080/",
          "height": 357
        },
        "outputId": "e51d42fa-ecf0-47ba-badb-690f621acbb3"
      },
      "execution_count": null,
      "outputs": [
        {
          "output_type": "error",
          "ename": "TclError",
          "evalue": "ignored",
          "traceback": [
            "\u001b[0;31m---------------------------------------------------------------------------\u001b[0m",
            "\u001b[0;31mTclError\u001b[0m                                  Traceback (most recent call last)",
            "\u001b[0;32m<ipython-input-18-c974224c7a5c>\u001b[0m in \u001b[0;36m<module>\u001b[0;34m\u001b[0m\n\u001b[1;32m     16\u001b[0m \u001b[0;34m\u001b[0m\u001b[0m\n\u001b[1;32m     17\u001b[0m \u001b[0;34m\u001b[0m\u001b[0m\n\u001b[0;32m---> 18\u001b[0;31m \u001b[0mwindow\u001b[0m \u001b[0;34m=\u001b[0m \u001b[0mTk\u001b[0m\u001b[0;34m(\u001b[0m\u001b[0;34m)\u001b[0m\u001b[0;34m\u001b[0m\u001b[0;34m\u001b[0m\u001b[0m\n\u001b[0m\u001b[1;32m     19\u001b[0m \u001b[0mwindow\u001b[0m\u001b[0;34m.\u001b[0m\u001b[0mtitle\u001b[0m\u001b[0;34m(\u001b[0m\u001b[0;34m\"Face recognizer\"\u001b[0m\u001b[0;34m)\u001b[0m\u001b[0;34m\u001b[0m\u001b[0;34m\u001b[0m\u001b[0m\n\u001b[1;32m     20\u001b[0m \u001b[0mwindow\u001b[0m\u001b[0;34m.\u001b[0m\u001b[0mgeometry\u001b[0m\u001b[0;34m(\u001b[0m\u001b[0;34m\"1280x720\"\u001b[0m\u001b[0;34m)\u001b[0m\u001b[0;34m\u001b[0m\u001b[0;34m\u001b[0m\u001b[0m\n",
            "\u001b[0;32m/usr/lib/python3.8/tkinter/__init__.py\u001b[0m in \u001b[0;36m__init__\u001b[0;34m(self, screenName, baseName, className, useTk, sync, use)\u001b[0m\n\u001b[1;32m   2268\u001b[0m                 \u001b[0mbaseName\u001b[0m \u001b[0;34m=\u001b[0m \u001b[0mbaseName\u001b[0m \u001b[0;34m+\u001b[0m \u001b[0mext\u001b[0m\u001b[0;34m\u001b[0m\u001b[0;34m\u001b[0m\u001b[0m\n\u001b[1;32m   2269\u001b[0m         \u001b[0minteractive\u001b[0m \u001b[0;34m=\u001b[0m \u001b[0;36m0\u001b[0m\u001b[0;34m\u001b[0m\u001b[0;34m\u001b[0m\u001b[0m\n\u001b[0;32m-> 2270\u001b[0;31m         \u001b[0mself\u001b[0m\u001b[0;34m.\u001b[0m\u001b[0mtk\u001b[0m \u001b[0;34m=\u001b[0m \u001b[0m_tkinter\u001b[0m\u001b[0;34m.\u001b[0m\u001b[0mcreate\u001b[0m\u001b[0;34m(\u001b[0m\u001b[0mscreenName\u001b[0m\u001b[0;34m,\u001b[0m \u001b[0mbaseName\u001b[0m\u001b[0;34m,\u001b[0m \u001b[0mclassName\u001b[0m\u001b[0;34m,\u001b[0m \u001b[0minteractive\u001b[0m\u001b[0;34m,\u001b[0m \u001b[0mwantobjects\u001b[0m\u001b[0;34m,\u001b[0m \u001b[0museTk\u001b[0m\u001b[0;34m,\u001b[0m \u001b[0msync\u001b[0m\u001b[0;34m,\u001b[0m \u001b[0muse\u001b[0m\u001b[0;34m)\u001b[0m\u001b[0;34m\u001b[0m\u001b[0;34m\u001b[0m\u001b[0m\n\u001b[0m\u001b[1;32m   2271\u001b[0m         \u001b[0;32mif\u001b[0m \u001b[0museTk\u001b[0m\u001b[0;34m:\u001b[0m\u001b[0;34m\u001b[0m\u001b[0;34m\u001b[0m\u001b[0m\n\u001b[1;32m   2272\u001b[0m             \u001b[0mself\u001b[0m\u001b[0;34m.\u001b[0m\u001b[0m_loadtk\u001b[0m\u001b[0;34m(\u001b[0m\u001b[0;34m)\u001b[0m\u001b[0;34m\u001b[0m\u001b[0;34m\u001b[0m\u001b[0m\n",
            "\u001b[0;31mTclError\u001b[0m: no display name and no $DISPLAY environment variable"
          ]
        }
      ]
    },
    {
      "cell_type": "code",
      "source": [],
      "metadata": {
        "id": "qW_TEcaJYfgJ"
      },
      "execution_count": null,
      "outputs": []
    },
    {
      "cell_type": "code",
      "source": [],
      "metadata": {
        "id": "vM9AhQNIh08j"
      },
      "execution_count": null,
      "outputs": []
    },
    {
      "cell_type": "code",
      "source": [],
      "metadata": {
        "id": "DDv1_FCOh6Cg"
      },
      "execution_count": null,
      "outputs": []
    }
  ]
}